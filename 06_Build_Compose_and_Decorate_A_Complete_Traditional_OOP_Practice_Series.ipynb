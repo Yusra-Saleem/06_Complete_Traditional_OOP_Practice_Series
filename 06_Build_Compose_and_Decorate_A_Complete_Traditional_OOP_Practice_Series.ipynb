{
  "nbformat": 4,
  "nbformat_minor": 0,
  "metadata": {
    "colab": {
      "provenance": [],
      "gpuType": "T4",
      "authorship_tag": "ABX9TyNkk7It62DxqOrzqzQlOo3O",
      "include_colab_link": true
    },
    "kernelspec": {
      "name": "python3",
      "display_name": "Python 3"
    },
    "language_info": {
      "name": "python"
    },
    "accelerator": "GPU"
  },
  "cells": [
    {
      "cell_type": "markdown",
      "metadata": {
        "id": "view-in-github",
        "colab_type": "text"
      },
      "source": [
        "<a href=\"https://colab.research.google.com/github/Yusra-Saleem/06_Complete_Traditional_OOP_Practice_Series/blob/main/06_Build_Compose_and_Decorate_A_Complete_Traditional_OOP_Practice_Series.ipynb\" target=\"_parent\"><img src=\"https://colab.research.google.com/assets/colab-badge.svg\" alt=\"Open In Colab\"/></a>"
      ]
    },
    {
      "cell_type": "markdown",
      "source": [
        "# **1. Using self**\n",
        "### **Assignment:**\n",
        "Create a class Student with attributes name and marks. Use the self keyword to initialize these values via a constructor. Add a method display() that prints student details.\n",
        "\n"
      ],
      "metadata": {
        "id": "bPJsXMzzkFrN"
      }
    },
    {
      "cell_type": "code",
      "execution_count": null,
      "metadata": {
        "id": "NurKFi5xazJe"
      },
      "outputs": [],
      "source": [
        "class Student:\n",
        "    def __init__(self, name, marks):\n",
        "        self.name = name\n",
        "        self.marks = marks\n",
        "\n",
        "    def display(self):\n",
        "        print(\"Student Name:\", self.name)\n",
        "        print(\"Student Marks:\", self.marks)\n",
        "\n",
        "\n",
        "student1 = Student(\"Ali\", 85)\n",
        "\n",
        "student1.display()\n"
      ]
    },
    {
      "cell_type": "markdown",
      "source": [
        "### **Explanation:**\n",
        "I created a class called Student with two attributes: `name` and `marks`.\n",
        "\n",
        "I used the `__init__()` constructor to initialize these values. Inside it, I used the `self` keyword to refer to the object itself and assign values to the attributes.\n",
        "\n",
        "The `display(`) method prints the student's name and marks.\n",
        "\n",
        "When I created the object student1, I passed the values \"Ali\" and 85 as arguments, which were then displayed when I called the `display()` method.\n",
        "\n"
      ],
      "metadata": {
        "id": "5kw61-gkksng"
      }
    },
    {
      "cell_type": "markdown",
      "source": [
        "# **2. Using cls**\n",
        "### **Assignment:**\n",
        "Create a class Counter that keeps track of how many objects have been created. Use a class variable and a class method with cls to manage and display the count."
      ],
      "metadata": {
        "id": "i84WfBIHlm5S"
      }
    },
    {
      "cell_type": "code",
      "source": [
        "class Counter:\n",
        "    count = 0\n",
        "\n",
        "    def __init__(self):\n",
        "        Counter.count += 1\n",
        "\n",
        "    @classmethod\n",
        "    def display_count(cls):\n",
        "        print(\"Number of objects created:\", cls.count)\n",
        "\n",
        "\n",
        "c1 = Counter()\n",
        "c2 = Counter()\n",
        "c3 = Counter()\n",
        "\n",
        "\n",
        "Counter.display_count()\n"
      ],
      "metadata": {
        "id": "fKyW_N-Cl-PQ"
      },
      "execution_count": null,
      "outputs": []
    },
    {
      "cell_type": "markdown",
      "source": [
        "### **Explanation:**\n",
        "I created a class Counter that keeps track of how many objects have been created using the class variable count.\n",
        "\n",
        "Every time I create an object of the Counter class, the `__init__()` constructor increases the count by 1.\n",
        "\n",
        "I used the @classmethod decorator to define the display_count() method. This method uses the cls parameter to access the class variable count and print the total number of objects created.\n",
        "\n",
        "After creating three objects (c1, c2, c3), I called the display_count() method to print the number of objects created.\n",
        "\n",
        "---\n",
        "\n"
      ],
      "metadata": {
        "id": "GlVtOD7TmFdW"
      }
    },
    {
      "cell_type": "markdown",
      "source": [
        "# **3. Public Variables and Methods**\n",
        "### **Assignment:**\n",
        "Create a class Car with a public variable brand and a public method start(). Instantiate the class and access both from outside the class."
      ],
      "metadata": {
        "id": "KfqFh8lQmMfK"
      }
    },
    {
      "cell_type": "code",
      "source": [
        "class Car:\n",
        "    def __init__(self, brand):\n",
        "        self.brand = brand\n",
        "\n",
        "    def start(self):\n",
        "        print(self.brand, \"car is starting...\")\n",
        "\n",
        "\n",
        "car1 = Car(\"Toyota\")\n",
        "\n",
        "print(\"Car Brand:\", car1.brand)\n",
        "car1.start()"
      ],
      "metadata": {
        "id": "B0SCwB7cmFFG"
      },
      "execution_count": null,
      "outputs": []
    },
    {
      "cell_type": "markdown",
      "source": [
        "### **Explanation:**\n",
        "I created a class Car with a public variable brand that stores the car's brand.\n",
        "\n",
        "I added a public method start() which prints a message indicating the car is starting.\n",
        "\n",
        "After creating an object car1 with the brand \"Toyota\", I accessed the brand variable and printed it directly.\n",
        "\n",
        "I also called the start() method to simulate starting the car.\n",
        "\n",
        "---\n",
        "\n",
        "\n",
        "\n"
      ],
      "metadata": {
        "id": "pIzsgKqBmqjT"
      }
    },
    {
      "cell_type": "markdown",
      "source": [
        "# **4. Class Variables and Class Methods**\n",
        "### Assignment:\n",
        "Create a class Bank with a class variable bank_name. Add a class method change_bank_name(cls, name) that allows changing the bank name. Show that it affects all instances."
      ],
      "metadata": {
        "id": "19d1emfdm2w1"
      }
    },
    {
      "cell_type": "code",
      "source": [
        "class Bank:\n",
        "    bank_name = \"Habib Bank\"\n",
        "\n",
        "    @classmethod\n",
        "    def change_bank_name(cls, name):\n",
        "        cls.bank_name = name\n",
        "\n",
        "bank1 = Bank()\n",
        "bank2 = Bank()\n",
        "\n",
        "\n",
        "print(\"Bank 1:\", bank1.bank_name)\n",
        "print(\"Bank 2:\", bank2.bank_name)\n",
        "\n",
        "\n",
        "Bank.change_bank_name(\"National Bank\")\n",
        "\n",
        "\n",
        "print(\"Updated Bank 1:\", bank1.bank_name)\n",
        "print(\"Updated Bank 2:\", bank2.bank_name)\n"
      ],
      "metadata": {
        "id": "NjgaEqtTnbzr"
      },
      "execution_count": null,
      "outputs": []
    },
    {
      "cell_type": "markdown",
      "source": [
        "### **Explanation:**\n",
        "I created a Bank class with a class variable bank_name initialized to \"Habib Bank\".\n",
        "\n",
        "I defined a class method change_bank_name(cls, name) using the @classmethod decorator. This method changes the bank_name for all instances by modifying the class variable.\n",
        "\n",
        "Initially, both bank1 and bank2 have the same bank_name. After calling Bank.change_bank_name(\"National Bank\"), the bank_name is updated for both instances, demonstrating that the class variable affects all objects.\n",
        "\n",
        "---\n",
        "\n"
      ],
      "metadata": {
        "id": "l85Ajwv6oDep"
      }
    },
    {
      "cell_type": "markdown",
      "source": [
        "# **5. Static Variables and Static Methods**\n",
        "### **Assignment:**\n",
        "Create a class MathUtils with a static method add(a, b) that returns the sum. No class or instance variables should be used."
      ],
      "metadata": {
        "id": "DAXE-pa3ogNN"
      }
    },
    {
      "cell_type": "code",
      "source": [
        "class MathUtils:\n",
        "    @staticmethod\n",
        "    def add(a, b):\n",
        "        return a + b\n",
        "\n",
        "\n",
        "result = MathUtils.add(5, 3)\n",
        "print(\"Sum:\", result)\n"
      ],
      "metadata": {
        "id": "bQa3M_tZnvk8"
      },
      "execution_count": null,
      "outputs": []
    },
    {
      "cell_type": "markdown",
      "source": [
        "### **Explanation:**\n",
        "I created a MathUtils class with a static method add(a, b) that simply returns the sum of a and b.\n",
        "\n",
        "I used the @staticmethod decorator to define a static method. Static methods don't need access to class or instance variables, so they can be called directly from the class without creating an object.\n",
        "\n",
        "I called MathUtils.add(5, 3) and printed the result, which correctly returned 8.\n",
        "\n",
        "---\n",
        "\n"
      ],
      "metadata": {
        "id": "-qPBun8xoC45"
      }
    },
    {
      "cell_type": "markdown",
      "source": [
        "# **6. Constructors and Destructors**\n",
        "### **Assignment:**\n",
        "Create a class Logger that prints a message when an object is created (constructor) and another message when it is destroyed (destructor)."
      ],
      "metadata": {
        "id": "t-EC6rSCpFN5"
      }
    },
    {
      "cell_type": "code",
      "source": [
        "class Logger:\n",
        "    def __init__(self):\n",
        "        print(\"Logger object created.\")\n",
        "\n",
        "    def __del__(self):\n",
        "        print(\"Logger object destroyed.\")\n",
        "\n",
        "\n",
        "logger = Logger()\n",
        "del logger\n"
      ],
      "metadata": {
        "id": "I3dQTjNApMin"
      },
      "execution_count": null,
      "outputs": []
    },
    {
      "cell_type": "markdown",
      "source": [
        "# **Explanation:**\n",
        "I created a Logger class with a constructor (__init__) that prints a message when an object is created.\n",
        "\n",
        "The __del__() method acts as the destructor, and it prints a message when the object is destroyed (i.e., when del is called on the object).\n",
        "\n",
        "I created the logger object and then deleted it with del, which triggered the destructor.\n",
        "\n",
        "---\n",
        "\n"
      ],
      "metadata": {
        "id": "Jawpvib0pVBX"
      }
    },
    {
      "cell_type": "markdown",
      "source": [
        "# **7. Access Modifiers: Public, Private, and Protected**\n",
        "### **Assignment:**\n",
        "Create a class Employee with:\n",
        "\n",
        "A public variable name\n",
        "\n",
        "A protected variable _salary\n",
        "\n",
        "A private variable __ssn\n",
        "\n",
        "Try accessing all three variables from an object of the class and document what happens."
      ],
      "metadata": {
        "id": "1w4JneZFpdQB"
      }
    },
    {
      "cell_type": "code",
      "source": [
        "class Employee:\n",
        "    def __init__(self, name, salary, ssn):\n",
        "        self.name = name\n",
        "        self._salary = salary\n",
        "        self.__ssn = ssn\n",
        "\n",
        "\n",
        "emp = Employee(\"Yusra\", 50000, \"123-45-6789\")\n",
        "\n",
        "\n",
        "print(\"Employee Name:\", emp.name)\n",
        "print(\"Employee Salary:\", emp._salary)\n",
        "\n",
        "\n",
        "\n",
        "print(\"Employee SSN:\", emp._Employee__ssn)\n"
      ],
      "metadata": {
        "id": "Z-YpAQNMpr0J"
      },
      "execution_count": null,
      "outputs": []
    },
    {
      "cell_type": "markdown",
      "source": [
        "### **Explanation**:\n",
        "I created an Employee class with a public variable name, a protected variable _salary, and a private variable __ssn.\n",
        "\n",
        "The public variable name can be accessed directly.\n",
        "\n",
        "The protected variable _salary can be accessed directly as well, but conventionally, it should not be modified directly.\n",
        "\n",
        "The private variable `__ssn` is not directly accessible outside the class. Trying to access it throws an AttributeError. However, it can be accessed using name mangling (_Employee__ssn).\n",
        "\n",
        "\n",
        "---\n",
        "\n",
        "\n",
        "\n",
        "\n"
      ],
      "metadata": {
        "id": "KpeXL8eCqHSx"
      }
    },
    {
      "cell_type": "markdown",
      "source": [
        "# **8. The super() Function**\n",
        "### **Assignment:**\n",
        "Create a class Person with a constructor that sets the name. Inherit a class Teacher from it, add a subject field, and use super() to call the base class constructor."
      ],
      "metadata": {
        "id": "3aZGuGy9qiB0"
      }
    },
    {
      "cell_type": "code",
      "source": [
        "class Person:\n",
        "    def __init__(self, name):\n",
        "        self.name = name\n",
        "\n",
        "class Teacher(Person):\n",
        "    def __init__(self, name, subject):\n",
        "        super().__init__(name)\n",
        "        self.subject = subject\n",
        "\n",
        "teacher = Teacher(\"Yusra\", \"Computer Science\")\n",
        "print(f\"Name: {teacher.name}, Subject: {teacher.subject}\")\n"
      ],
      "metadata": {
        "id": "cYK82yEhrNMF"
      },
      "execution_count": null,
      "outputs": []
    },
    {
      "cell_type": "markdown",
      "source": [
        "### **Explanation:**\n",
        "I created a base class Person with a constructor that initializes name.\n",
        "\n",
        "The Teacher class inherits from Person and adds a subject attribute.\n",
        "\n",
        "I used super() in Teacher to call the base class constructor so that name is initialized properly.\n",
        "\n",
        "\n",
        "---\n",
        "\n",
        "\n"
      ],
      "metadata": {
        "id": "yWftzot7rYpF"
      }
    },
    {
      "cell_type": "markdown",
      "source": [
        "# **9. Abstract Classes and Methods**\n",
        "### **Assignment:**\n",
        "Use the abc module to create an abstract class Shape with an abstract method area(). Inherit a class Rectangle that implements area()."
      ],
      "metadata": {
        "id": "tqhfZHUnriIh"
      }
    },
    {
      "cell_type": "code",
      "source": [
        "from abc import ABC, abstractmethod\n",
        "\n",
        "class Shape(ABC):\n",
        "    @abstractmethod\n",
        "    def area(self):\n",
        "        pass\n",
        "\n",
        "class Rectangle(Shape):\n",
        "    def __init__(self, width, height):\n",
        "        self.width = width\n",
        "        self.height = height\n",
        "\n",
        "    def area(self):\n",
        "        return self.width * self.height\n",
        "\n",
        "rect = Rectangle(5, 4)\n",
        "print(\"Area of Rectangle:\", rect.area())\n"
      ],
      "metadata": {
        "id": "WRW8yVPrry1S"
      },
      "execution_count": null,
      "outputs": []
    },
    {
      "cell_type": "markdown",
      "source": [
        "### **Explanation:**\n",
        "I used the abc module to create an abstract class Shape with an abstract method area().\n",
        "\n",
        "The Rectangle class implements area() by returning width × height.\n",
        "\n",
        "I created an object of Rectangle and successfully calculated the area.\n",
        "\n",
        "---\n",
        "\n"
      ],
      "metadata": {
        "id": "dBwyhBU-sF1C"
      }
    },
    {
      "cell_type": "markdown",
      "source": [
        "# **10. Instance Methods**\n",
        "### **Assignment:**\n",
        "Create a class Dog with instance variables name and breed. Add an instance method bark() that prints a message including the dog's name."
      ],
      "metadata": {
        "id": "JIFC8rzesSAv"
      }
    },
    {
      "cell_type": "code",
      "source": [
        "class Dog:\n",
        "    def __init__(self, name, breed):\n",
        "        self.name = name\n",
        "        self.breed = breed\n",
        "\n",
        "    def bark(self):\n",
        "        print(f\"{self.name} is barking!\")\n",
        "\n",
        "dog1 = Dog(\"Buddy\", \"Labrador\")\n",
        "dog1.bark()\n"
      ],
      "metadata": {
        "id": "UtijcXK9sKps"
      },
      "execution_count": null,
      "outputs": []
    },
    {
      "cell_type": "markdown",
      "source": [
        "### **Explanation:**\n",
        "I defined instance variables name and breed using the constructor.\n",
        "\n",
        "The method bark() accesses the name and prints a message\n",
        "\n",
        "---\n",
        "\n"
      ],
      "metadata": {
        "id": "-FJnZDfHtNIN"
      }
    },
    {
      "cell_type": "markdown",
      "source": [
        "# **11. Class Methods**\n",
        "### **Assignment**:\n",
        "Create a class Book with a class variable total_books. Add a class method increment_book_count() to increase the count when a new book is added."
      ],
      "metadata": {
        "id": "E0wBoBxltcnM"
      }
    },
    {
      "cell_type": "code",
      "source": [
        "class Book:\n",
        "    total_books = 0\n",
        "\n",
        "    def __init__(self, title):\n",
        "        self.title = title\n",
        "        Book.increment_book_count()\n",
        "\n",
        "    @classmethod\n",
        "    def increment_book_count(cls):\n",
        "        cls.total_books += 1\n",
        "\n",
        "book1 = Book(\"Python 101\")\n",
        "book2 = Book(\"Data Science\")\n",
        "print(\"Total books:\", Book.total_books)\n"
      ],
      "metadata": {
        "id": "kuCPU6iXuAMs"
      },
      "execution_count": null,
      "outputs": []
    },
    {
      "cell_type": "markdown",
      "source": [
        "### **Explanation:**\n",
        "total_books is a class variable that keeps track of how many books have been created.\n",
        "\n",
        "increment_book_count() is a class method that increments the count.\n",
        "\n",
        "Every time a new Book object is created, the count is increased.\n",
        "\n",
        "\n",
        "\n",
        "---\n",
        "\n"
      ],
      "metadata": {
        "id": "icHUHKmNuQlY"
      }
    },
    {
      "cell_type": "markdown",
      "source": [
        "# **12. Static Methods**\n",
        "### **Assignment:**\n",
        "Create a class TemperatureConverter with a static method celsius_to_fahrenheit(c) that returns the Fahrenheit value.\n",
        "\n",
        "\n",
        "\n"
      ],
      "metadata": {
        "id": "XtTeyut9uUSQ"
      }
    },
    {
      "cell_type": "code",
      "source": [
        "class TemperatureConverter:\n",
        "    @staticmethod\n",
        "    def celsius_to_fahrenheit(c):\n",
        "        return (c * 9/5) + 32\n",
        "\n",
        "print(\"100°C in Fahrenheit:\", TemperatureConverter.celsius_to_fahrenheit(100))\n"
      ],
      "metadata": {
        "id": "NociWiJeumBC"
      },
      "execution_count": null,
      "outputs": []
    },
    {
      "cell_type": "markdown",
      "source": [
        "### **Explanation:**\n",
        "I used a static method because the conversion doesn't need class or instance data.\n",
        "\n",
        "The formula (c * 9/5) + 32 converts Celsius to Fahrenheit.\n",
        "\n",
        "---\n",
        "\n"
      ],
      "metadata": {
        "id": "0b09GUJFuvHy"
      }
    },
    {
      "cell_type": "markdown",
      "source": [
        "# **13. Composition**\n",
        "### **Assignment:**\n",
        "Create a class Engine and a class Car. Use composition by passing an Engine object to the Car class during initialization. Access a method of the Engine class via the Car class."
      ],
      "metadata": {
        "id": "zD6ajliTu1zd"
      }
    },
    {
      "cell_type": "code",
      "source": [
        "class Engine:\n",
        "    def start(self):\n",
        "        print(\"Engine started\")\n",
        "\n",
        "class Car:\n",
        "    def __init__(self, engine):\n",
        "        self.engine = engine\n",
        "\n",
        "    def start_car(self):\n",
        "        self.engine.start()\n",
        "\n",
        "engine = Engine()\n",
        "car = Car(engine)\n",
        "car.start_car()\n"
      ],
      "metadata": {
        "id": "4r5wF892u_TP"
      },
      "execution_count": null,
      "outputs": []
    },
    {
      "cell_type": "markdown",
      "source": [
        "### **Explanation:**\n",
        "The Car class uses composition: it contains an Engine object.\n",
        "\n",
        "I called the Engine method start() using the Car object.\n",
        "\n",
        "---\n",
        "\n"
      ],
      "metadata": {
        "id": "Iyd6Bu-yvEWF"
      }
    },
    {
      "cell_type": "markdown",
      "source": [
        "# **14. Aggregation**\n",
        "### **Assignment:**\n",
        "Create a class Department and a class Employee. Use aggregation by having a Department object store a reference to an Employee object that exists independently of it."
      ],
      "metadata": {
        "id": "tMbVWwaUvP1h"
      }
    },
    {
      "cell_type": "code",
      "source": [
        "class Employee:\n",
        "    def __init__(self, name):\n",
        "        self.name = name\n",
        "\n",
        "class Department:\n",
        "    def __init__(self, emp):\n",
        "        self.employee = emp\n",
        "\n",
        "emp1 = Employee(\"Yusra\")\n",
        "dept = Department(emp1)\n",
        "\n",
        "print(\"Employee in Department:\", dept.employee.name)\n"
      ],
      "metadata": {
        "id": "46jahrP_vXjh"
      },
      "execution_count": null,
      "outputs": []
    },
    {
      "cell_type": "markdown",
      "source": [
        "### **Explanation:**\n",
        "Employee exists independently of Department.\n",
        "\n",
        "Department is passed an existing Employee object, demonstrating aggregation.\n",
        "\n",
        "---\n",
        "\n"
      ],
      "metadata": {
        "id": "8ZpsJi8dviZn"
      }
    },
    {
      "cell_type": "markdown",
      "source": [
        "# **15. Method Resolution Order (MRO) and Diamond Inheritance**\n",
        "### **Assignment:**\n",
        "Create four classes:\n",
        "\n",
        "A with a method show()\n",
        "\n",
        "B and C that inherit from A and override show()\n",
        "\n",
        "D that inherits from both B and C\n",
        "Create an object of D and call show() to observe MRO."
      ],
      "metadata": {
        "id": "sLy5sBKgvrjE"
      }
    },
    {
      "cell_type": "code",
      "source": [
        "class A:\n",
        "    def show(self):\n",
        "        print(\"A's show\")\n",
        "\n",
        "class B(A):\n",
        "    def show(self):\n",
        "        print(\"B's show\")\n",
        "\n",
        "class C(A):\n",
        "    def show(self):\n",
        "        print(\"C's show\")\n",
        "\n",
        "class D(B, C):\n",
        "    pass\n",
        "\n",
        "d = D()\n",
        "d.show()\n",
        "print(D.__mro__)\n"
      ],
      "metadata": {
        "id": "GY7KmVcnwPJ_"
      },
      "execution_count": null,
      "outputs": []
    },
    {
      "cell_type": "markdown",
      "source": [
        "# **Explanation:**\n",
        "D inherits from both B and C.\n",
        "\n",
        "When d.show() is called, Python follows the Method Resolution Order (MRO): D → B → C → A.\n",
        "\n",
        "So B's version of show() is called first.\n",
        "\n",
        "`D.__mro__` prints the exact order Python uses to resolve methods.\n",
        "\n",
        "---\n",
        "\n"
      ],
      "metadata": {
        "id": "4XNrQsw6weQQ"
      }
    },
    {
      "cell_type": "markdown",
      "source": [
        "# **16. Function Decorators**\n",
        "### **Assignment:**\n",
        "Write a decorator function log_function_call that prints \"Function is being called\" before a function executes. Apply it to a function say_hello().\n",
        "\n"
      ],
      "metadata": {
        "id": "SIeNAS6Vwj3-"
      }
    },
    {
      "cell_type": "code",
      "source": [
        "def log_function_call(func):\n",
        "    def wrapper():\n",
        "        print(\"Function is being called\")\n",
        "        return func()\n",
        "    return wrapper\n",
        "\n",
        "@log_function_call\n",
        "def say_hello():\n",
        "    print(\"Hello!\")\n",
        "\n",
        "say_hello()\n"
      ],
      "metadata": {
        "id": "w1SOgYJNyGZY"
      },
      "execution_count": null,
      "outputs": []
    },
    {
      "cell_type": "markdown",
      "source": [
        "### **Explanation:**\n",
        "I created a decorator log_function_call that wraps a function and logs a message.\n",
        "\n",
        "The @log_function_call syntax applies the decorator to say_hello().\n",
        "\n",
        "Before \"Hello!\" is printed, the decorator logs \"Function is being called\".\n",
        "\n",
        "---\n",
        "\n"
      ],
      "metadata": {
        "id": "REPZhTjiyR-n"
      }
    },
    {
      "cell_type": "markdown",
      "source": [
        "# **17. Class Decorators**\n",
        "### **Assignment:**\n",
        "Create a class decorator add_greeting that modifies a class to add a greet() method returning \"Hello from Decorator!\". Apply it to a class Person."
      ],
      "metadata": {
        "id": "nC17GzwYyYGk"
      }
    },
    {
      "cell_type": "code",
      "source": [
        "def add_greeting(cls):\n",
        "    def greet(self):\n",
        "        return \"Hello from Decorator!\"\n",
        "    cls.greet = greet\n",
        "    return cls\n",
        "\n",
        "@add_greeting\n",
        "class Person:\n",
        "    def __init__(self, name):\n",
        "        self.name = name\n",
        "\n",
        "p = Person(\"Yusra\")\n",
        "print(p.greet())\n"
      ],
      "metadata": {
        "id": "4D9VOWztyizE"
      },
      "execution_count": null,
      "outputs": []
    },
    {
      "cell_type": "markdown",
      "source": [
        "### **Explanation:**\n",
        "The add_greeting decorator adds a greet() method to the class.\n",
        "\n",
        "After decorating Person, every instance of it can now use greet().\n",
        "\n",
        "\n",
        "\n",
        "---\n",
        "\n"
      ],
      "metadata": {
        "id": "B4xbNiZOyvgl"
      }
    },
    {
      "cell_type": "markdown",
      "source": [
        "# **18. Property Decorators: @property, @setter, and @deleter**\n",
        "### **Assignment:**\n",
        "Create a class Product with a private attribute _price. Use @property to get the price, @price.setter to update it, and @price.deleter to delete it."
      ],
      "metadata": {
        "id": "6jK5KKiqy4Pw"
      }
    },
    {
      "cell_type": "code",
      "source": [
        "class Product:\n",
        "    def __init__(self, price):\n",
        "        self._price = price\n",
        "\n",
        "    @property\n",
        "    def price(self):\n",
        "        return self._price\n",
        "\n",
        "    @price.setter\n",
        "    def price(self, value):\n",
        "        self._price = value\n",
        "\n",
        "    @price.deleter\n",
        "    def price(self):\n",
        "        del self._price\n",
        "\n",
        "item = Product(100)\n",
        "print(\"Price:\", item.price)\n",
        "item.price = 150\n",
        "print(\"Updated Price:\", item.price)\n",
        "del item.price\n"
      ],
      "metadata": {
        "id": "jXuPnD4qy3MJ"
      },
      "execution_count": null,
      "outputs": []
    },
    {
      "cell_type": "markdown",
      "source": [
        "### **Explanation:**\n",
        "I used @property for safe access to _price.\n",
        "\n",
        "The @setter lets me update _price, and @deleter allows deleting it.\n",
        "\n",
        "This shows full control over attribute access.\n",
        "\n",
        "---\n",
        "\n"
      ],
      "metadata": {
        "id": "6mx9oQ0SzJOt"
      }
    },
    {
      "cell_type": "markdown",
      "source": [
        "# **19. callable() and __call__()**\n",
        "### **Assignment:**\n",
        "Create a class Multiplier with an __init__() to set a factor. Define a __call__() method that multiplies an input by the factor. Test it with callable() and by calling the object like a function."
      ],
      "metadata": {
        "id": "qtl6kGf5zTFZ"
      }
    },
    {
      "cell_type": "code",
      "source": [
        "class Multiplier:\n",
        "    def __init__(self, factor):\n",
        "        self.factor = factor\n",
        "\n",
        "    def __call__(self, number):\n",
        "        return self.factor * number\n",
        "\n",
        "m = Multiplier(3)\n",
        "print(\"Is m callable?\", callable(m))\n",
        "print(\"Result:\", m(5))\n"
      ],
      "metadata": {
        "id": "wij1VM-0zY1Q"
      },
      "execution_count": null,
      "outputs": []
    },
    {
      "cell_type": "markdown",
      "source": [
        "### **Explanation:**\n",
        "The `__call__()` method lets me call the object like a function.\n",
        "\n",
        "callable(m) returns True because `__call__()` is defined.\n",
        "\n",
        "---\n",
        "\n",
        "\n",
        "\n"
      ],
      "metadata": {
        "id": "FuE2Gc4vzjFf"
      }
    },
    {
      "cell_type": "markdown",
      "source": [
        "# **20. Creating a Custom Exception**\n",
        "### **Assignment:**\n",
        "Create a custom exception InvalidAgeError. Write a function check_age(age) that raises this exception if age < 18. Handle it with try...except."
      ],
      "metadata": {
        "id": "B-k7EJRJzoNt"
      }
    },
    {
      "cell_type": "code",
      "source": [
        "class InvalidAgeError(Exception):\n",
        "    pass\n",
        "\n",
        "def check_age(age):\n",
        "    if age < 18:\n",
        "        raise InvalidAgeError(\"Age must be at least 18\")\n",
        "    print(\"Access granted\")\n",
        "\n",
        "try:\n",
        "    check_age(16)\n",
        "except InvalidAgeError as e:\n",
        "    print(\"Error:\", e)\n"
      ],
      "metadata": {
        "colab": {
          "base_uri": "https://localhost:8080/",
          "height": 0
        },
        "id": "RchnjY6Bz4NE",
        "outputId": "e1645f15-76e5-4b8a-a5a5-92c81c9949a5"
      },
      "execution_count": 30,
      "outputs": [
        {
          "output_type": "stream",
          "name": "stdout",
          "text": [
            "Error: Age must be at least 18\n"
          ]
        }
      ]
    },
    {
      "cell_type": "markdown",
      "source": [
        "### **Explanation:**\n",
        "I created a custom exception by inheriting from Exception.\n",
        "\n",
        "If age < 18, the exception is raised and caught in the except block.\n",
        "\n",
        "---\n",
        "\n"
      ],
      "metadata": {
        "id": "eH-tYn3Rz9_T"
      }
    },
    {
      "cell_type": "markdown",
      "source": [
        "# **21. Make a Custom Class Iterable**\n",
        "### **Assignment:**\n",
        "Create a class Countdown that takes a start number. Implement __iter__() and __next__() to make the object iterable in a for loop, counting down to 0."
      ],
      "metadata": {
        "id": "tMjomyzK0If9"
      }
    },
    {
      "cell_type": "code",
      "source": [
        "class Countdown:\n",
        "    def __init__(self, start):\n",
        "        self.current = start\n",
        "\n",
        "    def __iter__(self):\n",
        "        return self\n",
        "\n",
        "    def __next__(self):\n",
        "        if self.current < 0:\n",
        "            raise StopIteration\n",
        "        val = self.current\n",
        "        self.current -= 1\n",
        "        return val\n",
        "\n",
        "for num in Countdown(5):\n",
        "    print(num)\n"
      ],
      "metadata": {
        "id": "K_xz2i140T44"
      },
      "execution_count": null,
      "outputs": []
    },
    {
      "cell_type": "markdown",
      "source": [
        "### **Explanation:**\n",
        "I made the class iterable using `__iter__()` and `__next__()`.\n",
        "\n",
        "It counts down from the start value to 0 and stops using StopIteration.\n",
        "\n",
        "---\n",
        "\n"
      ],
      "metadata": {
        "id": "3Tcvurzs0Zs2"
      }
    }
  ]
}